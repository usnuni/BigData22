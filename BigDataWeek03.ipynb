{
 "cells": [
  {
   "cell_type": "code",
   "execution_count": 1,
   "id": "b95426da",
   "metadata": {},
   "outputs": [
    {
     "name": "stdout",
     "output_type": "stream",
     "text": [
      "How are u?\n"
     ]
    }
   ],
   "source": [
    "# input\n",
    "imVariable = input()"
   ]
  },
  {
   "cell_type": "code",
   "execution_count": 2,
   "id": "54381b92",
   "metadata": {},
   "outputs": [
    {
     "name": "stdout",
     "output_type": "stream",
     "text": [
      "Typr Here : How are you .. ?\n"
     ]
    }
   ],
   "source": [
    "# input2\n",
    "imVariable2 = input('Typr Here : ')"
   ]
  },
  {
   "cell_type": "code",
   "execution_count": 3,
   "id": "fffe79d8",
   "metadata": {},
   "outputs": [
    {
     "name": "stdout",
     "output_type": "stream",
     "text": [
      "How are you .. ?\n"
     ]
    }
   ],
   "source": [
    "# print\n",
    "print(imVariable2)"
   ]
  },
  {
   "cell_type": "code",
   "execution_count": 4,
   "id": "ae2f6058",
   "metadata": {},
   "outputs": [
    {
     "name": "stdout",
     "output_type": "stream",
     "text": [
      "How are you?\n",
      "Fine thank you, and you?\n"
     ]
    }
   ],
   "source": [
    "# if\n",
    "imVariable3 = input()\n",
    "if imVariable3 == 'How are you?' :\n",
    "    print('Fine thank you, and you?')"
   ]
  },
  {
   "cell_type": "code",
   "execution_count": 5,
   "id": "8eafb05c",
   "metadata": {},
   "outputs": [
    {
     "name": "stdout",
     "output_type": "stream",
     "text": [
      "Typr Here : how are you?\n",
      "Answer : Fine thank you, and you?\n"
     ]
    }
   ],
   "source": [
    "# if - elif \n",
    "imVariable4 = input('Typr Here : ')\n",
    "answer = 'Fine thank you, and you?'\n",
    "if imVariable4 == 'How are you?' :\n",
    "    print('Answer : '+answer)\n",
    "elif imVariable4 == 'how are you?' :\n",
    "    print('Answer : '+answer)"
   ]
  },
  {
   "cell_type": "code",
   "execution_count": 7,
   "id": "faf0cc4c",
   "metadata": {},
   "outputs": [
    {
     "name": "stdout",
     "output_type": "stream",
     "text": [
      "Typr Here : how are you?\n",
      "Answer2 : Fine thank you, and you?\n"
     ]
    }
   ],
   "source": [
    "# if - elif 2\n",
    "imVariable5 = input('Typr Here : ')\n",
    "answer2 = 'Fine thank you, and you?'\n",
    "if imVariable5 == 'How are you?' or imVariable5 == 'how are you?' :\n",
    "    print('Answer2 : '+answer2)"
   ]
  },
  {
   "cell_type": "code",
   "execution_count": 8,
   "id": "d38e87c9",
   "metadata": {},
   "outputs": [
    {
     "name": "stdout",
     "output_type": "stream",
     "text": [
      "Typr Here : HOW ARE YOU?\n",
      "Answer3 : Fine thank you, and you?\n"
     ]
    }
   ],
   "source": [
    "# if - elif 3\n",
    "imVariable6 = input('Typr Here : ')\n",
    "imVariable6 = imVariable6.lower()\n",
    "answer3 = 'Fine thank you, and you?'\n",
    "if imVariable6 == 'how are you?' :\n",
    "    print('Answer3 : '+answer3)"
   ]
  },
  {
   "cell_type": "code",
   "execution_count": 10,
   "id": "47eb74fb",
   "metadata": {},
   "outputs": [
    {
     "name": "stdout",
     "output_type": "stream",
     "text": [
      "Type here: how do you do?\n",
      "Wrong question, sorry\n"
     ]
    }
   ],
   "source": [
    "# if - elif - else\n",
    "imVariable7 = input('Type here: ')\n",
    "answer4 = 'Fine thank you, and you?'\n",
    "if imVariable7 == 'How are you?':\n",
    "    print(answer4)\n",
    "elif imVariable7 == 'how are you?':\n",
    "    print(answer4)\n",
    "else:\n",
    "    print('Wrong question, sorry')"
   ]
  },
  {
   "cell_type": "code",
   "execution_count": 12,
   "id": "e838177d",
   "metadata": {},
   "outputs": [],
   "source": [
    "# open\n",
    "handle = open('readMe.txt', 'r')\n",
    "handle.close()"
   ]
  },
  {
   "cell_type": "code",
   "execution_count": 13,
   "id": "490da666",
   "metadata": {},
   "outputs": [
    {
     "name": "stdout",
     "output_type": "stream",
     "text": [
      "This is a file for reading practice in big data class.\n",
      "\n",
      "The sentence you are looking for is..\n",
      "\n",
      "Hello ari !\n",
      "\n"
     ]
    }
   ],
   "source": [
    "# for~ in~\n",
    "handle2 = open('readMe.txt', 'r')\n",
    "for line in handle2 :\n",
    "    print(line)\n",
    "handle2.close()"
   ]
  },
  {
   "cell_type": "code",
   "execution_count": 16,
   "id": "25254653",
   "metadata": {},
   "outputs": [
    {
     "name": "stdout",
     "output_type": "stream",
     "text": [
      "line : Hello ari ! matched to a : Hello ari !\n"
     ]
    }
   ],
   "source": [
    "# Sample script\n",
    "a = 'Hello ari !'\n",
    "handle3 = open('readMe.txt', 'r')\n",
    "for line in handle3 :\n",
    "    line = line.strip()  \n",
    "    if line == a :\n",
    "        print('line : ' + line + ' matched to a : ' + a)\n",
    "handle3.close()"
   ]
  },
  {
   "cell_type": "code",
   "execution_count": null,
   "id": "6b4015b9",
   "metadata": {},
   "outputs": [],
   "source": []
  }
 ],
 "metadata": {
  "kernelspec": {
   "display_name": "Python 3 (ipykernel)",
   "language": "python",
   "name": "python3"
  },
  "language_info": {
   "codemirror_mode": {
    "name": "ipython",
    "version": 3
   },
   "file_extension": ".py",
   "mimetype": "text/x-python",
   "name": "python",
   "nbconvert_exporter": "python",
   "pygments_lexer": "ipython3",
   "version": "3.9.13"
  }
 },
 "nbformat": 4,
 "nbformat_minor": 5
}
